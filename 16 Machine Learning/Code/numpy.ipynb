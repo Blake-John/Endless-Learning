{
 "cells": [
  {
   "cell_type": "markdown",
   "metadata": {},
   "source": [
    "# The math in Python-Numpy\n",
    "\n",
    "Numpy is a general-purpose array-processing package. It provides a high-performance multidimensional array object, and tools for working with these arrays. It is the fundamental package for scientific computing with Python.\n",
    "\n",
    "Besides its obvious scientific uses, Numpy can also be used as an efficient multi-dimensional container of generic data.\n",
    "\n",
    "## 0 import the numpy"
   ]
  },
  {
   "cell_type": "code",
   "execution_count": 2,
   "metadata": {},
   "outputs": [],
   "source": [
    "import numpy as np"
   ]
  },
  {
   "cell_type": "markdown",
   "metadata": {},
   "source": [
    "## 1 The Array in numpy\n",
    "\n",
    "Array in Numpy is a table of elements (usually numbers), all of the same type, indexed by a tuple of positive integers. In Numpy, number of dimensions of the array is called rank of the array.A tuple of integers giving the size of the array along each dimension is known as shape of the array. An array class in Numpy is called as ndarray. Elements in Numpy arrays are accessed by using square brackets and can be initialized by using nested Python Lists.\n",
    "\n",
    "The matrix in numpy is the array of number, we can use `np.array ()` to create a **numpy array** from any type of array, such as\n",
    "\n",
    "$$\\begin{bmatrix}\n",
    "1 && 2 \\\\\n",
    "3 && 4\n",
    "\\end{bmatrix}$$\n",
    "\n",
    "### 1.1 Create the numpy array\n",
    "\n",
    "Arrays in Numpy can be created by multiple ways, with various number of Ranks, defining the size of the Array. Arrays can also be created with the use of various data types such as **lists, tuples**, etc. The type of the resultant array is deduced from the type of the elements in the sequences.\n",
    "\n",
    "> Note: Type of array can be explicitly defined while creating the array.\n",
    "\n"
   ]
  },
  {
   "cell_type": "code",
   "execution_count": 3,
   "metadata": {},
   "outputs": [
    {
     "name": "stdout",
     "output_type": "stream",
     "text": [
      "Numpy Array from list :\n",
      " [1 2 3 4]\n",
      "Numpy Array from tuple :\n",
      " [5 6 7 8]\n",
      "Numpy Array as matrix :\n",
      " [[1 2]\n",
      " [3 4]]\n"
     ]
    }
   ],
   "source": [
    "array_list = np.array ([1, 2, 3, 4])\n",
    "array_tuple = np.array ((5, 6, 7, 8))\n",
    "m_a = np.array ([[1, 2],\n",
    "                 [3, 4]])\n",
    "\n",
    "\"\"\"\n",
    "(function) def array(\n",
    "    object: object,\n",
    "    dtype: None = ...,\n",
    "    *,\n",
    "    copy: bool | _CopyMode = ...,\n",
    "    order: _OrderKACF = ...,\n",
    "    subok: bool = ...,\n",
    "    ndmin: int = ...,\n",
    "    like: _SupportsArrayFunc | None = ...\n",
    ") -> NDArray[Any]\n",
    "\"\"\"\n",
    "\n",
    "print (\"Numpy Array from list :\\n\", array_list)\n",
    "print (\"Numpy Array from tuple :\\n\", array_tuple)\n",
    "print (\"Numpy Array as matrix :\\n\", m_a)"
   ]
  },
  {
   "cell_type": "markdown",
   "metadata": {},
   "source": [
    "The vector in numpy is the same as matrix because the vector is just a special matrix which has only one row or one column, such as\n",
    "\n",
    "$$\\vec{a} = (1, 2, 3, 4)$$"
   ]
  },
  {
   "cell_type": "code",
   "execution_count": 5,
   "metadata": {},
   "outputs": [
    {
     "name": "stdout",
     "output_type": "stream",
     "text": [
      "Numpy Array as vector :\n",
      " [1 2 3 4]\n"
     ]
    }
   ],
   "source": [
    "vec_a = np.array ([1, 2, 3, 4])\n",
    "print (\"Numpy Array as vector :\\n\", vec_a)"
   ]
  },
  {
   "cell_type": "markdown",
   "metadata": {},
   "source": [
    "Beyond the normal array, we can also create the specific array by the function, such as the array with **Only Zero** , the array with **Same Value** , the array with **Random Value**"
   ]
  },
  {
   "cell_type": "code",
   "execution_count": 12,
   "metadata": {},
   "outputs": [
    {
     "name": "stdout",
     "output_type": "stream",
     "text": [
      "The array with 0 :\n",
      " [[0. 0. 0. 0.]\n",
      " [0. 0. 0. 0.]\n",
      " [0. 0. 0. 0.]]\n",
      "The array with same value :\n",
      " [[6 6 6]\n",
      " [6 6 6]\n",
      " [6 6 6]]\n",
      "The array with random value from `np.random.random` :\n",
      " [[0.32857303 0.8369507 ]\n",
      " [0.42614772 0.79020535]]\n",
      "The array with random value from `np.random.rand` :\n",
      " [[0.54999908 0.3631753 ]\n",
      " [0.59411659 0.58117413]]\n",
      "The array with random value from `np.empty` :\n",
      " [[0.34230131 0.66269926]\n",
      " [0.10701934 0.54517769]]\n"
     ]
    }
   ],
   "source": [
    "zero_array = np.zeros ((3, 4))\n",
    "\"\"\"\n",
    "(function) def zeros(\n",
    "    shape: _ShapeLike,\n",
    "    dtype: None = ...,\n",
    "    order: _OrderCF = ...,\n",
    "    *,\n",
    "    like: _SupportsArrayFunc | None = ...\n",
    ") -> NDArray[float64]\n",
    "\"\"\"\n",
    "\n",
    "same_array = np.full ((3, 3), 6)\n",
    "\"\"\"\n",
    "(function) def full(\n",
    "    shape: _ShapeLike,\n",
    "    fill_value: Any,\n",
    "    dtype: None = ...,\n",
    "    order: _OrderCF = ...,\n",
    "    *,\n",
    "    like: _SupportsArrayFunc = ...\n",
    ") -> NDArray[Any]\n",
    "\"\"\"\n",
    "\n",
    "random_array1 = np.random.random ((2, 2))\n",
    "\"\"\"\n",
    "def random(size: None = ...) -> float: ...\n",
    "\"\"\"\n",
    "random_array2 = np.random.rand (2, 2)\n",
    "\"\"\"\n",
    "def rand(*args: int) -> ndarray[Any, dtype[float64]]: ...\n",
    "\n",
    "`*args` - the dimensions of the array\n",
    "\"\"\"\n",
    "\n",
    "random_array3 = np.empty ((2, 2))\n",
    "\"\"\"\n",
    "(function) def empty(\n",
    "    shape: _ShapeLike,\n",
    "    dtype: None = ...,\n",
    "    order: _OrderCF = ...,\n",
    "    *,\n",
    "    like: _SupportsArrayFunc | None = ...\n",
    ") -> NDArray[float64]\n",
    "\"\"\"\n",
    "\n",
    "print (\"The array with 0 :\\n\", zero_array)\n",
    "print (\"The array with same value :\\n\", same_array)\n",
    "print (\"The array with random value from `np.random.random` :\\n\", random_array1)\n",
    "print (\"The array with random value from `np.random.rand` :\\n\", random_array2)\n",
    "print (\"The array with random value from `np.empty` :\\n\", random_array3)"
   ]
  },
  {
   "cell_type": "markdown",
   "metadata": {},
   "source": [
    "Additionally, we can create an array by the given range, such as **range from a to b with the stride n**, or **slice up the range** into many pieces : "
   ]
  },
  {
   "cell_type": "code",
   "execution_count": 14,
   "metadata": {},
   "outputs": [
    {
     "name": "stdout",
     "output_type": "stream",
     "text": [
      "The array from `arange` :\n",
      " [2 4 6 8]\n",
      "The array from `linspace` :\n",
      " [ 10.  20.  30.  40.  50.  60.  70.  80.  90. 100.]\n"
     ]
    }
   ],
   "source": [
    "arange_array = np.arange (2, 10, 2)\n",
    "\"\"\"\n",
    "(function) def arange(\n",
    "    start: _IntLike_co,\n",
    "    stop: _IntLike_co,\n",
    "    step: _IntLike_co = ...,\n",
    "    dtype: None = ...,\n",
    "    *,\n",
    "    like: _SupportsArrayFunc | None = ...\n",
    ") -> NDArray[signedinteger[Any]]\n",
    "\n",
    "`start` and `stop` are optional\n",
    "\"\"\"\n",
    "\n",
    "linspace_array = np.linspace (10, 100, 10)\n",
    "\"\"\"\n",
    "(function) def linspace(\n",
    "    start: _ArrayLikeFloat_co,\n",
    "    stop: _ArrayLikeFloat_co,\n",
    "    num: SupportsIndex = ...,\n",
    "    endpoint: bool = ...,\n",
    "    retstep: Literal[False] = ...,\n",
    "    dtype: None = ...,\n",
    "    axis: SupportsIndex = ...\n",
    ") -> NDArray[floating[Any]]\n",
    "\"\"\"\n",
    "\n",
    "print (\"The array from `arange` :\\n\", arange_array)\n",
    "print (\"The array from `linspace` :\\n\", linspace_array)"
   ]
  },
  {
   "cell_type": "markdown",
   "metadata": {},
   "source": [
    "### 1.2 Access Numpy Array\n",
    "\n",
    "In a numpy array, indexing or accessing the array index can be done in multiple ways. To print a range of an array, **slicing** is done. Slicing of an array is defining a range in a new array which is used to print a range of elements from the original array. Since, sliced array holds a range of elements of the original array, modifying content with the help of sliced array modifies the original array content."
   ]
  },
  {
   "cell_type": "code",
   "execution_count": 10,
   "metadata": {},
   "outputs": [
    {
     "name": "stdout",
     "output_type": "stream",
     "text": [
      "The Third Value of vec_a :\n",
      " 3\n",
      "The 0 - 1 value of vec_a :\n",
      " [1 2]\n",
      "The row2, col1 value of m_a :\n",
      " 3\n",
      "The row2, col 1 - 2 of m_a :\n",
      " [1 2]\n"
     ]
    }
   ],
   "source": [
    "print (\"The Third Value of vec_a :\\n\", vec_a[2])\n",
    "print (\"The 0 - 1 value of vec_a :\\n\", vec_a[:2])\n",
    "\n",
    "print (\"The row2, col1 value of m_a :\\n\", m_a[1, 0])\n",
    "print (\"The row2, col 1 - 2 of m_a :\\n\", m_a[0, :2])"
   ]
  },
  {
   "cell_type": "markdown",
   "metadata": {},
   "source": [
    "## 02 Operation of Numpy Array\n",
    "\n",
    "### 2.1 Basic Operation\n",
    "\n",
    "The basic operations on an array are : \n",
    "\n",
    "1. add a number on it\n",
    "2. add two arrays on\n",
    "3. times a number on it\n",
    "4. times two arrays"
   ]
  },
  {
   "cell_type": "code",
   "execution_count": 18,
   "metadata": {},
   "outputs": [
    {
     "name": "stdout",
     "output_type": "stream",
     "text": [
      "Add a number on arry1 :\n",
      " [2 3 4 5]\n",
      "Add two arrays :\n",
      " [ 6  8 10 12]\n",
      "Times a number on it :\n",
      " [ 3  6  9 12]\n"
     ]
    }
   ],
   "source": [
    "arry1 = np.array ([1, 2, 3, 4])\n",
    "arry2 = np.array ([5, 6, 7, 8])\n",
    "\n",
    "# Add a number on arry1\n",
    "arry_add_num = arry1 + 1\n",
    "print (\"Add a number on arry1 :\\n\", arry_add_num)\n",
    "\n",
    "# Add two arrays\n",
    "arry_add = arry1 + arry2\n",
    "print (\"Add two arrays :\\n\", arry_add)\n",
    "\n",
    "# Times a number on it\n",
    "arry_times_num = 3 * arry1\n",
    "print (\"Times a number on it :\\n\", arry_times_num)"
   ]
  },
  {
   "cell_type": "markdown",
   "metadata": {},
   "source": [
    "Times two array are two methods : \n",
    "\n",
    "1. matrix multiplication\n",
    "2. dot product"
   ]
  },
  {
   "cell_type": "code",
   "execution_count": 30,
   "metadata": {},
   "outputs": [
    {
     "name": "stdout",
     "output_type": "stream",
     "text": [
      "Dot product of arrays :\n",
      " 70\n",
      "Matrix Multiplication of 2D array :\n",
      " [[ 60  70]\n",
      " [140 166]]\n",
      "Dot product of 2D arrays :\n",
      " [[ 2  6 12 20]\n",
      " [30 42 56 72]]\n"
     ]
    }
   ],
   "source": [
    "arry_dot1 = np.dot (arry1, arry2)\n",
    "\"\"\"\n",
    "(function) def dot(\n",
    "    a: ArrayLike,\n",
    "    b: ArrayLike,\n",
    "    out: None = ...\n",
    ") -> Any\n",
    "\"\"\"\n",
    "print (\"Dot product of arrays :\\n\", arry_dot1)\n",
    "\n",
    "arry_2d_1 = np.array ([[1, 2, 3, 4], \n",
    "                       [5, 6, 7, 8]])\n",
    "arry_2d_2 = np.array ([[2,3], \n",
    "                       [4, 5], \n",
    "                       [6, 7], \n",
    "                       [8, 9]])\n",
    "arry_dot2 = np.dot (arry_2d_1, arry_2d_2)\n",
    "print (\"Matrix Multiplication of 2D array :\\n\", arry_dot2)\n",
    "\n",
    "arry_2d_3 = np.array ([[2, 3, 4, 5], \n",
    "                       [6, 7, 8, 9]])\n",
    "arry_multiply = arry_2d_1 * arry_2d_3\n",
    "print (\"Dot product of 2D arrays :\\n\", arry_multiply)"
   ]
  },
  {
   "cell_type": "markdown",
   "metadata": {},
   "source": [
    "### 2.2 Advaced Operation\n",
    "\n",
    "#### 1. Reshape\n",
    "\n",
    "We can reshape the array to what we want by `np.reshape` function : "
   ]
  },
  {
   "cell_type": "code",
   "execution_count": 39,
   "metadata": {},
   "outputs": [
    {
     "name": "stdout",
     "output_type": "stream",
     "text": [
      "Original :\n",
      " [[1 2 3 4]\n",
      " [5 2 4 2]\n",
      " [1 2 0 1]] \n",
      "\n",
      "Auto reshape (2, -1) :\n",
      " [[1 2 3 4 5 2]\n",
      " [4 2 1 2 0 1]]\n",
      "Specific reshape (2, 3, 2) :\n",
      " [[[1 2 3]\n",
      "  [4 5 2]]\n",
      "\n",
      " [[4 2 1]\n",
      "  [2 0 1]]] \n",
      "\n",
      "Auto reshape (2, -1) :\n",
      " [[1 2 3 4 5 2]\n",
      " [4 2 1 2 0 1]]\n",
      "Specific reshape (2, 3, 2) :\n",
      " [[[1 2 3]\n",
      "  [4 5 2]]\n",
      "\n",
      " [[4 2 1]\n",
      "  [2 0 1]]]\n"
     ]
    }
   ],
   "source": [
    "arr = np.array([[1, 2, 3, 4], \n",
    "                [5, 2, 4, 2], \n",
    "                [1, 2, 0, 1]])\n",
    "print (\"Original :\\n\", arr, \"\\n\")\n",
    "\n",
    "\"\"\"\n",
    "(function) def reshape(\n",
    "    a: ArrayLike,\n",
    "    newshape: _ShapeLike,\n",
    "    order: _OrderACF = ...\n",
    ") -> NDArray[Any]\n",
    "\"\"\"\n",
    "\n",
    "# auto filled reshape\n",
    "arr_auto_reshape = np.reshape (arr, (2, -1))\n",
    "arr_reshap = np.reshape (arr, (2, 2, 3))\n",
    "\n",
    "print (\"Auto reshape (2, -1) :\\n\", arr_auto_reshape)\n",
    "print (\"Specific reshape (2, 3, 2) :\\n\", arr_reshap, \"\\n\")\n",
    "\n",
    "#todo or we can use the method of array to reshape\n",
    "\n",
    "\"\"\"\n",
    "(method) def reshape(\n",
    "    *shape: SupportsIndex,\n",
    "    order: _OrderACF = ...\n",
    ") -> ndarray[Any, dtype[Any]]\n",
    "\"\"\"\n",
    "\n",
    "arr_auto_reshape2 = arr.reshape (2, -1)\n",
    "arr_reshap2 = arr.reshape (2, 2, 3)\n",
    "\n",
    "print (\"Auto reshape (2, -1) :\\n\", arr_auto_reshape2)\n",
    "print (\"Specific reshape (2, 3, 2) :\\n\", arr_reshap2)\n"
   ]
  },
  {
   "cell_type": "markdown",
   "metadata": {},
   "source": [
    "#### 2. Flatten\n",
    "\n",
    "We can flatten the array into only **one dimension** by `flatten ()` :"
   ]
  },
  {
   "cell_type": "code",
   "execution_count": 40,
   "metadata": {},
   "outputs": [
    {
     "name": "stdout",
     "output_type": "stream",
     "text": [
      "Original :\n",
      " [[1 2 3 4]\n",
      " [5 2 4 2]\n",
      " [1 2 0 1]]\n",
      "After flatten :\n",
      " [1 2 3 4 5 2 4 2 1 2 0 1]\n"
     ]
    }
   ],
   "source": [
    "arr_flatten = arr.flatten ()\n",
    "print (\"Original :\\n\", arr)\n",
    "print (\"After flatten :\\n\", arr_flatten)"
   ]
  },
  {
   "cell_type": "markdown",
   "metadata": {},
   "source": [
    "#### 3. Stacking\n",
    "\n",
    "Several arrays can be stacked together along different axes.\n",
    "\n",
    "* `np.vstack` : To stack arrays along **vertical axis**.\n",
    "* `np.hstack` : To stack arrays along **horizontal axis**.\n",
    "* `np.column_stack` : To stack 1-D arrays as columns into 2-D arrays.\n",
    "* `np.concatenate` : To stack arrays **along specified axis** (axis is passed as argument)."
   ]
  },
  {
   "cell_type": "code",
   "execution_count": 52,
   "metadata": {},
   "outputs": [
    {
     "name": "stdout",
     "output_type": "stream",
     "text": [
      "Vertical Stacking :\n",
      " [[1 2]\n",
      " [3 4]\n",
      " [5 6]\n",
      " [7 8]] \n",
      "\n",
      "Horizontal Stacking :\n",
      " [[1 2 5 6]\n",
      " [3 4 7 8]] \n",
      "\n",
      "Column Stacking (c, b):\n",
      " [[ 9  5  6]\n",
      " [10  7  8]]\n",
      "Column Stacking (b, c):\n",
      " [[ 5  6  9]\n",
      " [ 7  8 10]] \n",
      "\n",
      "Concatenation axis 1:\n",
      " [[1 2 5 6]\n",
      " [3 4 7 8]]\n",
      "Concatenation axis 0:\n",
      " [[1 2]\n",
      " [3 4]\n",
      " [5 6]\n",
      " [7 8]]\n"
     ]
    }
   ],
   "source": [
    "a = np.array([[1, 2], \n",
    "              [3, 4]]) \n",
    "b = np.array([[5, 6], \n",
    "              [7, 8]]) \n",
    "c = np.array ([9, 10])\n",
    "\n",
    "# vertical stacking\n",
    "\"\"\"\n",
    "def vstack(\n",
    "    tup: Sequence[ArrayLike],\n",
    "    *,\n",
    "    dtype: _DTypeLike[_SCT@vstack],\n",
    "    casting: _CastingKind = ...\n",
    ") -> NDArray[_SCT@vstack]: ...\n",
    "\"\"\"\n",
    "print (\"Vertical Stacking :\\n\", np.vstack ((a, b)), \"\\n\")\n",
    "\n",
    "# horizontal stacking\n",
    "\"\"\"\n",
    "def hstack(\n",
    "    tup: Sequence[ArrayLike],\n",
    "    *,\n",
    "    dtype: _DTypeLike[_SCT@hstack],\n",
    "    casting: _CastingKind = ...\n",
    ") -> NDArray[_SCT@hstack]: ...\n",
    "\"\"\"\n",
    "print (\"Horizontal Stacking :\\n\", np.hstack ((a, b)), \"\\n\")\n",
    "\n",
    "# stacking columns\n",
    "\"\"\"\n",
    "(function) def column_stack(tup: Sequence[_ArrayLike[_SCT@column_stack]]) -> NDArray[_SCT@column_stack]\n",
    "\"\"\"\n",
    "print (\"Column Stacking (c, b):\\n\", np.column_stack ((c, b)))\n",
    "print (\"Column Stacking (b, c):\\n\", np.column_stack ((b, c)), \"\\n\")\n",
    "\n",
    "# concatenation\n",
    "\"\"\"\n",
    "(function) def concatenate(\n",
    "    arrays: _ArrayLike[_SCT@concatenate],\n",
    "    /,\n",
    "    axis: SupportsIndex | None = ...,\n",
    "    out: None = ...,\n",
    "    *,\n",
    "    dtype: None = ...,\n",
    "    casting: _CastingKind | None = ...\n",
    ") -> NDArray[_SCT@concatenate]\n",
    "\"\"\"\n",
    "print (\"Concatenation axis 1:\\n\", np.concatenate ((a, b), 1))\n",
    "print (\"Concatenation axis 0:\\n\", np.concatenate ((a, b), 0))"
   ]
  },
  {
   "cell_type": "markdown",
   "metadata": {},
   "source": [
    "#### 4. Splitting\n",
    "\n",
    "Since we can add the array together, we can also split the array apart.\n",
    "\n",
    "* `np.hsplit` : Split array along **horizontal** axis.\n",
    "* `np.vsplit` : Split array along **vertical** axis.\n",
    "* `np.array_split` : Split array along **specified axis**.\n"
   ]
  },
  {
   "cell_type": "code",
   "execution_count": 53,
   "metadata": {},
   "outputs": [
    {
     "name": "stdout",
     "output_type": "stream",
     "text": [
      "Original :\n",
      " [[ 1  3  5  7  9 11]\n",
      " [ 2  4  6  8 10 12]] \n",
      "\n",
      "Horizontal Splitting :\n",
      " [array([[1, 3, 5],\n",
      "       [2, 4, 6]]), array([[ 7,  9, 11],\n",
      "       [ 8, 10, 12]])]\n",
      "Horizontal Splitting :\n",
      " [array([[1, 3],\n",
      "       [2, 4]]), array([[5, 7],\n",
      "       [6, 8]]), array([[ 9, 11],\n",
      "       [10, 12]])] \n",
      "\n",
      "Vertical Splitting :\n",
      " [array([[ 1,  3,  5,  7,  9, 11],\n",
      "       [ 2,  4,  6,  8, 10, 12]])]\n",
      "Vertical Splitting :\n",
      " [array([[ 1,  3,  5,  7,  9, 11]]), array([[ 2,  4,  6,  8, 10, 12]])]\n"
     ]
    }
   ],
   "source": [
    "d = np.array ([[1, 3, 5, 7, 9, 11],\n",
    "               [2, 4, 6, 8, 10, 12]])\n",
    "print (\"Original :\\n\", d, \"\\n\")\n",
    "\n",
    "# horizontal splitting\n",
    "print (\"Horizontal Splitting :\\n\", np.hsplit (d, 2))\n",
    "print (\"Horizontal Splitting :\\n\", np.hsplit (d, 3), \"\\n\")\n",
    "\n",
    "# vertical splitting\n",
    "print (\"Vertical Splitting :\\n\", np.vsplit (d, 1))\n",
    "print (\"Vertical Splitting :\\n\", np.vsplit (d, 2))"
   ]
  }
 ],
 "metadata": {
  "kernelspec": {
   "display_name": "pytorch",
   "language": "python",
   "name": "python3"
  },
  "language_info": {
   "codemirror_mode": {
    "name": "ipython",
    "version": 3
   },
   "file_extension": ".py",
   "mimetype": "text/x-python",
   "name": "python",
   "nbconvert_exporter": "python",
   "pygments_lexer": "ipython3",
   "version": "3.10.14"
  }
 },
 "nbformat": 4,
 "nbformat_minor": 2
}
